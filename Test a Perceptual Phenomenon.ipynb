{
 "cells": [
  {
   "cell_type": "markdown",
   "metadata": {},
   "source": [
    "### Analyzing the Stroop Effect\n",
    "$\\square$ **Project Overview**\n",
    "\n",
    "In this project, a classic phenomenon from experimental psychology called the [Stroop effect](https://en.wikipedia.org/wiki/Stroop_effect) is investigated. I learnt a little bit about the experiment, create a hypothesis regarding the outcome of the task. I looked at some data collected from others who have performed the same task and computed some statistics describing the results. Finally, I interpreted the results in terms of the hypotheses.\n",
    "\n",
    "\n"
   ]
  },
  {
   "cell_type": "markdown",
   "metadata": {},
   "source": [
    "#### (1) What is the independent variable? What is the dependent variable?"
   ]
  },
  {
   "cell_type": "markdown",
   "metadata": {},
   "source": [
    "$\\square$ **Background Information**\n",
    "\n",
    "In a Stroop task, participants are presented with a list of words, with each word displayed in a color of ink. The participant’s task is to say out loud the color of the ink in which the word is printed. \n",
    "The task has two conditions: a congruent words condition, and an incongruent words condition. In the congruent words condition, the words being displayed are color words whose names match the colors in which they are printed (RED, BLUE). In the incongruent words condition, the words displayed are color words whose names do not match the colors in which they are printed (PURPLE, ORANGE). \n",
    "In each case, we measure the time it takes to name the ink colors in equally-sized lists. Each participant will go through and record a time from each condition.\n",
    "\n",
    "$\\blacksquare$ **Independent Variable (Explanatory Variable (EV)):**\n",
    "\n",
    "According to the design of the experiment, the independent variable is the two conditions of the experiment, whether the words match the ink color, or the words are mismatch the ink color (Congruent - Incongruent), respectively.\n",
    "\n",
    "$\\blacksquare$ **Dependent Variable (Response Variable (RV))**\n",
    "\n",
    "Is the amount of time which each participant takes to name the color of the ink in each test condition.\n"
   ]
  },
  {
   "cell_type": "markdown",
   "metadata": {},
   "source": [
    "#### (2) What is an appropriate set of hypotheses for this task? Specify your null and alternative hypotheses, and clearly define any notation used. Justify your choices."
   ]
  },
  {
   "cell_type": "markdown",
   "metadata": {},
   "source": [
    "In psychology, the [Stroop effect](https://en.wikipedia.org/wiki/Stroop_effect) is a demonstration of interference in the reaction time of a task. When the name of a color (e.g., \"blue\", \"green\", or \"red\") is printed in a color which is not denoted by the name (i.e., the word \"red\" printed in blue ink instead of red ink), naming the color of the word takes longer and is more prone to errors than when the color of the ink matches the name of the color.([1](https://en.wikipedia.org/wiki/Stroop_effect))\n",
    "\n",
    "Therefore, we can identify hypotheses that help us to prove this phenomenon as follows:\n",
    "\n",
    "**H$_{0}$:** Initially, the null hypothesis assumes that there is no difference in time in both two conditions (congruent and Incongruent). It means, in the other words, the population mean of the amount of time taken to read incongruent word smaller than or equals the population mean of the amount of time taken to read congruent word  \n",
    "($\\mu_{I}  \\leq \\mu_{C}$ ).\n",
    "\n",
    "**H$_{1}$:** The alternative hypothesis the population mean of the amount of time taken to read incongruent word is greater than the population mean of the amount of time taken to read congruent word                  \n",
    "($\\mu_{I}  > \\mu_{C}$ ).\n",
    "\n",
    "**Mathematically:**\n",
    "#### H$_{0}$:  $\\mu_{I}  - \\mu_{C} \\leq  0$ ####\n",
    "#### H$_{1}$ :$\\mu_{I}  - \\mu_{C} >  0$ ####\n",
    "\n",
    "where, $\\mu_{I}$  and $\\mu_{C}$ are defined as the population mean values for the time taken to read Incongruent and Congruent word respectively. Error type is type I error rate of 1% ($ \\alpha = .01 $) which corresponds to confidence level 99%.\n",
    "\n",
    "According to the alternative hypothesis, “A greater than” seems reasonable because there is directional component (one-tailed positively) associated with this statement. \n",
    "#### The hypotheses Test:####\n",
    "The recommended test is \"paired samples t-test\" which also known as dependent samples t-test, because:\n",
    "\n",
    "**1-**\tA paired t-test is used to compare two population means where you have two samples in which observations in one sample can be paired with observations in the other sample.\n",
    "\n",
    "**2-**\tA comparison of two different methods of measurement or two different treatments where the measurements/treatments are applied to the same subjects([1](http://www.statstutor.ac.uk/resources/uploaded/paired-t-test.pdf)) (participants). \n",
    "\n",
    "**3-**\tWe didn't know any parameter about population and we'll use statistics of the sample to infer the parameters about population (the hypothesis is written in terms of the population mean μ) and our sample is small (24 participants).\n",
    "\n"
   ]
  },
  {
   "cell_type": "markdown",
   "metadata": {},
   "source": [
    "#### (3) Report some descriptive statistics regarding this dataset. Include at least one measure of central tendency and at least one measure of variability. The name of the data file is 'stroopdata.csv'."
   ]
  },
  {
   "cell_type": "code",
   "execution_count": 1,
   "metadata": {},
   "outputs": [
    {
     "data": {
      "text/html": [
       "<div>\n",
       "<style>\n",
       "    .dataframe thead tr:only-child th {\n",
       "        text-align: right;\n",
       "    }\n",
       "\n",
       "    .dataframe thead th {\n",
       "        text-align: left;\n",
       "    }\n",
       "\n",
       "    .dataframe tbody tr th {\n",
       "        vertical-align: top;\n",
       "    }\n",
       "</style>\n",
       "<table border=\"1\" class=\"dataframe\">\n",
       "  <thead>\n",
       "    <tr style=\"text-align: right;\">\n",
       "      <th></th>\n",
       "      <th>Congruent</th>\n",
       "      <th>Incongruent</th>\n",
       "    </tr>\n",
       "  </thead>\n",
       "  <tbody>\n",
       "    <tr>\n",
       "      <th>0</th>\n",
       "      <td>12.079</td>\n",
       "      <td>19.278</td>\n",
       "    </tr>\n",
       "    <tr>\n",
       "      <th>1</th>\n",
       "      <td>16.791</td>\n",
       "      <td>18.741</td>\n",
       "    </tr>\n",
       "    <tr>\n",
       "      <th>2</th>\n",
       "      <td>9.564</td>\n",
       "      <td>21.214</td>\n",
       "    </tr>\n",
       "    <tr>\n",
       "      <th>3</th>\n",
       "      <td>8.630</td>\n",
       "      <td>15.687</td>\n",
       "    </tr>\n",
       "    <tr>\n",
       "      <th>4</th>\n",
       "      <td>14.669</td>\n",
       "      <td>22.803</td>\n",
       "    </tr>\n",
       "  </tbody>\n",
       "</table>\n",
       "</div>"
      ],
      "text/plain": [
       "   Congruent  Incongruent\n",
       "0     12.079       19.278\n",
       "1     16.791       18.741\n",
       "2      9.564       21.214\n",
       "3      8.630       15.687\n",
       "4     14.669       22.803"
      ]
     },
     "execution_count": 1,
     "metadata": {},
     "output_type": "execute_result"
    }
   ],
   "source": [
    "# Importing statements for all of the packages that I plan to use.\n",
    "import pandas as pd\n",
    "import numpy as np\n",
    "import seaborn as sns\n",
    "import matplotlib.pyplot as plt\n",
    "%matplotlib inline\n",
    "\n",
    "np.random.seed(42)\n",
    "# To read csv data file and show the first 5 rows\n",
    "stroop = pd.read_csv('stroopdata.csv')\n",
    "stroop.head()"
   ]
  },
  {
   "cell_type": "code",
   "execution_count": 2,
   "metadata": {},
   "outputs": [
    {
     "data": {
      "text/plain": [
       "(24, 2)"
      ]
     },
     "execution_count": 2,
     "metadata": {},
     "output_type": "execute_result"
    }
   ],
   "source": [
    "# Finding the number of participants (rows)\n",
    "stroop.shape"
   ]
  },
  {
   "cell_type": "markdown",
   "metadata": {},
   "source": [
    "*We can conclude that the file contains 24 participants (rows) which seems relatively small sample so that we should use t-test to get accurate results.*"
   ]
  },
  {
   "cell_type": "code",
   "execution_count": 3,
   "metadata": {},
   "outputs": [
    {
     "data": {
      "text/html": [
       "<div>\n",
       "<style>\n",
       "    .dataframe thead tr:only-child th {\n",
       "        text-align: right;\n",
       "    }\n",
       "\n",
       "    .dataframe thead th {\n",
       "        text-align: left;\n",
       "    }\n",
       "\n",
       "    .dataframe tbody tr th {\n",
       "        vertical-align: top;\n",
       "    }\n",
       "</style>\n",
       "<table border=\"1\" class=\"dataframe\">\n",
       "  <thead>\n",
       "    <tr style=\"text-align: right;\">\n",
       "      <th></th>\n",
       "      <th>Congruent</th>\n",
       "      <th>Incongruent</th>\n",
       "      <th>Difference</th>\n",
       "    </tr>\n",
       "  </thead>\n",
       "  <tbody>\n",
       "    <tr>\n",
       "      <th>0</th>\n",
       "      <td>12.079</td>\n",
       "      <td>19.278</td>\n",
       "      <td>7.199</td>\n",
       "    </tr>\n",
       "    <tr>\n",
       "      <th>1</th>\n",
       "      <td>16.791</td>\n",
       "      <td>18.741</td>\n",
       "      <td>1.950</td>\n",
       "    </tr>\n",
       "    <tr>\n",
       "      <th>2</th>\n",
       "      <td>9.564</td>\n",
       "      <td>21.214</td>\n",
       "      <td>11.650</td>\n",
       "    </tr>\n",
       "    <tr>\n",
       "      <th>3</th>\n",
       "      <td>8.630</td>\n",
       "      <td>15.687</td>\n",
       "      <td>7.057</td>\n",
       "    </tr>\n",
       "    <tr>\n",
       "      <th>4</th>\n",
       "      <td>14.669</td>\n",
       "      <td>22.803</td>\n",
       "      <td>8.134</td>\n",
       "    </tr>\n",
       "    <tr>\n",
       "      <th>5</th>\n",
       "      <td>12.238</td>\n",
       "      <td>20.878</td>\n",
       "      <td>8.640</td>\n",
       "    </tr>\n",
       "    <tr>\n",
       "      <th>6</th>\n",
       "      <td>14.692</td>\n",
       "      <td>24.572</td>\n",
       "      <td>9.880</td>\n",
       "    </tr>\n",
       "    <tr>\n",
       "      <th>7</th>\n",
       "      <td>8.987</td>\n",
       "      <td>17.394</td>\n",
       "      <td>8.407</td>\n",
       "    </tr>\n",
       "    <tr>\n",
       "      <th>8</th>\n",
       "      <td>9.401</td>\n",
       "      <td>20.762</td>\n",
       "      <td>11.361</td>\n",
       "    </tr>\n",
       "    <tr>\n",
       "      <th>9</th>\n",
       "      <td>14.480</td>\n",
       "      <td>26.282</td>\n",
       "      <td>11.802</td>\n",
       "    </tr>\n",
       "    <tr>\n",
       "      <th>10</th>\n",
       "      <td>22.328</td>\n",
       "      <td>24.524</td>\n",
       "      <td>2.196</td>\n",
       "    </tr>\n",
       "    <tr>\n",
       "      <th>11</th>\n",
       "      <td>15.298</td>\n",
       "      <td>18.644</td>\n",
       "      <td>3.346</td>\n",
       "    </tr>\n",
       "    <tr>\n",
       "      <th>12</th>\n",
       "      <td>15.073</td>\n",
       "      <td>17.510</td>\n",
       "      <td>2.437</td>\n",
       "    </tr>\n",
       "    <tr>\n",
       "      <th>13</th>\n",
       "      <td>16.929</td>\n",
       "      <td>20.330</td>\n",
       "      <td>3.401</td>\n",
       "    </tr>\n",
       "    <tr>\n",
       "      <th>14</th>\n",
       "      <td>18.200</td>\n",
       "      <td>35.255</td>\n",
       "      <td>17.055</td>\n",
       "    </tr>\n",
       "    <tr>\n",
       "      <th>15</th>\n",
       "      <td>12.130</td>\n",
       "      <td>22.158</td>\n",
       "      <td>10.028</td>\n",
       "    </tr>\n",
       "    <tr>\n",
       "      <th>16</th>\n",
       "      <td>18.495</td>\n",
       "      <td>25.139</td>\n",
       "      <td>6.644</td>\n",
       "    </tr>\n",
       "    <tr>\n",
       "      <th>17</th>\n",
       "      <td>10.639</td>\n",
       "      <td>20.429</td>\n",
       "      <td>9.790</td>\n",
       "    </tr>\n",
       "    <tr>\n",
       "      <th>18</th>\n",
       "      <td>11.344</td>\n",
       "      <td>17.425</td>\n",
       "      <td>6.081</td>\n",
       "    </tr>\n",
       "    <tr>\n",
       "      <th>19</th>\n",
       "      <td>12.369</td>\n",
       "      <td>34.288</td>\n",
       "      <td>21.919</td>\n",
       "    </tr>\n",
       "    <tr>\n",
       "      <th>20</th>\n",
       "      <td>12.944</td>\n",
       "      <td>23.894</td>\n",
       "      <td>10.950</td>\n",
       "    </tr>\n",
       "    <tr>\n",
       "      <th>21</th>\n",
       "      <td>14.233</td>\n",
       "      <td>17.960</td>\n",
       "      <td>3.727</td>\n",
       "    </tr>\n",
       "    <tr>\n",
       "      <th>22</th>\n",
       "      <td>19.710</td>\n",
       "      <td>22.058</td>\n",
       "      <td>2.348</td>\n",
       "    </tr>\n",
       "    <tr>\n",
       "      <th>23</th>\n",
       "      <td>16.004</td>\n",
       "      <td>21.157</td>\n",
       "      <td>5.153</td>\n",
       "    </tr>\n",
       "  </tbody>\n",
       "</table>\n",
       "</div>"
      ],
      "text/plain": [
       "    Congruent  Incongruent  Difference\n",
       "0      12.079       19.278       7.199\n",
       "1      16.791       18.741       1.950\n",
       "2       9.564       21.214      11.650\n",
       "3       8.630       15.687       7.057\n",
       "4      14.669       22.803       8.134\n",
       "5      12.238       20.878       8.640\n",
       "6      14.692       24.572       9.880\n",
       "7       8.987       17.394       8.407\n",
       "8       9.401       20.762      11.361\n",
       "9      14.480       26.282      11.802\n",
       "10     22.328       24.524       2.196\n",
       "11     15.298       18.644       3.346\n",
       "12     15.073       17.510       2.437\n",
       "13     16.929       20.330       3.401\n",
       "14     18.200       35.255      17.055\n",
       "15     12.130       22.158      10.028\n",
       "16     18.495       25.139       6.644\n",
       "17     10.639       20.429       9.790\n",
       "18     11.344       17.425       6.081\n",
       "19     12.369       34.288      21.919\n",
       "20     12.944       23.894      10.950\n",
       "21     14.233       17.960       3.727\n",
       "22     19.710       22.058       2.348\n",
       "23     16.004       21.157       5.153"
      ]
     },
     "execution_count": 3,
     "metadata": {},
     "output_type": "execute_result"
    }
   ],
   "source": [
    "# Creating new column for the differences between the amount of time \n",
    "# taken to read Incongurent words and congruent words. \n",
    "stroop['Difference'] = stroop['Incongruent'] - stroop['Congruent']\n",
    "stroop.head(24)"
   ]
  },
  {
   "cell_type": "code",
   "execution_count": 4,
   "metadata": {},
   "outputs": [
    {
     "data": {
      "text/html": [
       "<div>\n",
       "<style>\n",
       "    .dataframe thead tr:only-child th {\n",
       "        text-align: right;\n",
       "    }\n",
       "\n",
       "    .dataframe thead th {\n",
       "        text-align: left;\n",
       "    }\n",
       "\n",
       "    .dataframe tbody tr th {\n",
       "        vertical-align: top;\n",
       "    }\n",
       "</style>\n",
       "<table border=\"1\" class=\"dataframe\">\n",
       "  <thead>\n",
       "    <tr style=\"text-align: right;\">\n",
       "      <th></th>\n",
       "      <th>Congruent</th>\n",
       "      <th>Incongruent</th>\n",
       "      <th>Difference</th>\n",
       "    </tr>\n",
       "  </thead>\n",
       "  <tbody>\n",
       "    <tr>\n",
       "      <th>count</th>\n",
       "      <td>24.000000</td>\n",
       "      <td>24.000000</td>\n",
       "      <td>24.000000</td>\n",
       "    </tr>\n",
       "    <tr>\n",
       "      <th>mean</th>\n",
       "      <td>14.051125</td>\n",
       "      <td>22.015917</td>\n",
       "      <td>7.964792</td>\n",
       "    </tr>\n",
       "    <tr>\n",
       "      <th>std</th>\n",
       "      <td>3.559358</td>\n",
       "      <td>4.797057</td>\n",
       "      <td>4.864827</td>\n",
       "    </tr>\n",
       "    <tr>\n",
       "      <th>min</th>\n",
       "      <td>8.630000</td>\n",
       "      <td>15.687000</td>\n",
       "      <td>1.950000</td>\n",
       "    </tr>\n",
       "    <tr>\n",
       "      <th>25%</th>\n",
       "      <td>11.895250</td>\n",
       "      <td>18.716750</td>\n",
       "      <td>3.645500</td>\n",
       "    </tr>\n",
       "    <tr>\n",
       "      <th>50%</th>\n",
       "      <td>14.356500</td>\n",
       "      <td>21.017500</td>\n",
       "      <td>7.666500</td>\n",
       "    </tr>\n",
       "    <tr>\n",
       "      <th>75%</th>\n",
       "      <td>16.200750</td>\n",
       "      <td>24.051500</td>\n",
       "      <td>10.258500</td>\n",
       "    </tr>\n",
       "    <tr>\n",
       "      <th>max</th>\n",
       "      <td>22.328000</td>\n",
       "      <td>35.255000</td>\n",
       "      <td>21.919000</td>\n",
       "    </tr>\n",
       "  </tbody>\n",
       "</table>\n",
       "</div>"
      ],
      "text/plain": [
       "       Congruent  Incongruent  Difference\n",
       "count  24.000000    24.000000   24.000000\n",
       "mean   14.051125    22.015917    7.964792\n",
       "std     3.559358     4.797057    4.864827\n",
       "min     8.630000    15.687000    1.950000\n",
       "25%    11.895250    18.716750    3.645500\n",
       "50%    14.356500    21.017500    7.666500\n",
       "75%    16.200750    24.051500   10.258500\n",
       "max    22.328000    35.255000   21.919000"
      ]
     },
     "execution_count": 4,
     "metadata": {},
     "output_type": "execute_result"
    }
   ],
   "source": [
    "# To find some descriptive statistics include two measures of central tendency (mean & percentiles including median (50%))\n",
    "# and measures of variability (std & variance in the next 3 cells) for each variable (column). \n",
    "stroop.describe()"
   ]
  },
  {
   "cell_type": "markdown",
   "metadata": {},
   "source": [
    "*I found all the values in \"Difference\" column are positive which means that Incongruent word reading time is always bigger than Congruent word reading time in all the sample. So, the difference Column gives us first indication that we should reject the null hypothesis ($H_{0}$).*"
   ]
  },
  {
   "cell_type": "code",
   "execution_count": 5,
   "metadata": {},
   "outputs": [
    {
     "data": {
      "text/plain": [
       "12.669029070652176"
      ]
     },
     "execution_count": 5,
     "metadata": {},
     "output_type": "execute_result"
    }
   ],
   "source": [
    "# To find \"Congruent\" variance\n",
    "cong_var = stroop.Congruent.var()\n",
    "cong_var"
   ]
  },
  {
   "cell_type": "code",
   "execution_count": 6,
   "metadata": {},
   "outputs": [
    {
     "data": {
      "text/plain": [
       "23.011757036231884"
      ]
     },
     "execution_count": 6,
     "metadata": {},
     "output_type": "execute_result"
    }
   ],
   "source": [
    "# To find \"Incongruent\" variance\n",
    "incong_var = stroop.Incongruent.var()\n",
    "incong_var"
   ]
  },
  {
   "cell_type": "code",
   "execution_count": 7,
   "metadata": {},
   "outputs": [
    {
     "data": {
      "text/plain": [
       "23.666540867753632"
      ]
     },
     "execution_count": 7,
     "metadata": {},
     "output_type": "execute_result"
    }
   ],
   "source": [
    "# To find \"Difference\" variance\n",
    "diffs_var = stroop.Difference.var()\n",
    "diffs_var"
   ]
  },
  {
   "cell_type": "markdown",
   "metadata": {},
   "source": [
    "#### (4) Provide one or two visualizations that show the distribution of the sample data. Write one or two sentences noting what you observe about the plot or plots."
   ]
  },
  {
   "cell_type": "code",
   "execution_count": 8,
   "metadata": {},
   "outputs": [
    {
     "data": {
      "text/plain": [
       "<matplotlib.axes._subplots.AxesSubplot at 0x7f1b8cbebe80>"
      ]
     },
     "execution_count": 8,
     "metadata": {},
     "output_type": "execute_result"
    },
    {
     "data": {
      "image/png": "[encoded data removed]",
      "text/plain": [
       "<matplotlib.figure.Figure at 0x7f1b8cb37390>"
      ]
     },
     "metadata": {
      "needs_background": "light"
     },
     "output_type": "display_data"
    }
   ],
   "source": [
    "# Boxplot of Congruent, Incongruent and Diferrence\n",
    "stroop.plot(figsize=(5, 5), color='r', kind='box')"
   ]
  },
  {
   "cell_type": "markdown",
   "metadata": {},
   "source": [
    "**The previous box plot shows the median of 'Incongruent' is greater than the median of 'Congruent'. Most of the values in 'Congruent' (75%) lies below the values of 'Incongruent' which means the amount of time taken in read congruent word is less than the amount of time taken in read incongruent word. We have some outliers in 'Incongruent' word and 'Difference', in addition these seem mild right skew as will appear in the next histogram.**"
   ]
  },
  {
   "cell_type": "code",
   "execution_count": 9,
   "metadata": {},
   "outputs": [
    {
     "data": {
      "text/plain": [
       "<matplotlib.axes._subplots.AxesSubplot at 0x7f1bb97a30b8>"
      ]
     },
     "execution_count": 9,
     "metadata": {},
     "output_type": "execute_result"
    },
    {
     "data": {
      "image/png": "[encoded data removed]",
      "text/plain": [
       "<matplotlib.figure.Figure at 0x7f1b8cb53748>"
      ]
     },
     "metadata": {
      "needs_background": "light"
     },
     "output_type": "display_data"
    }
   ],
   "source": [
    "# Density Plot and Histogram of Congruent\n",
    "sns.distplot(stroop['Congruent'], hist=True, kde=True, \n",
    "            bins=8, color = 'darkblue', \n",
    "             hist_kws={'edgecolor':'black'},\n",
    "             kde_kws={'linewidth': 4})"
   ]
  },
  {
   "cell_type": "code",
   "execution_count": 10,
   "metadata": {},
   "outputs": [
    {
     "data": {
      "text/plain": [
       "<matplotlib.axes._subplots.AxesSubplot at 0x7f1b8aa08b38>"
      ]
     },
     "execution_count": 10,
     "metadata": {},
     "output_type": "execute_result"
    },
    {
     "data": {
      "image/png": "[encoded data removed]",
      "text/plain": [
       "<matplotlib.figure.Figure at 0x7f1b8aa5e240>"
      ]
     },
     "metadata": {
      "needs_background": "light"
     },
     "output_type": "display_data"
    }
   ],
   "source": [
    "# Density Plot and Histogram of Incongruent\n",
    "sns.distplot(stroop['Incongruent'], hist=True, kde=True, \n",
    "            bins=8, color = 'darkblue', \n",
    "             hist_kws={'edgecolor':'black'},\n",
    "             kde_kws={'linewidth': 4})"
   ]
  },
  {
   "cell_type": "code",
   "execution_count": 11,
   "metadata": {},
   "outputs": [
    {
     "data": {
      "text/plain": [
       "<matplotlib.axes._subplots.AxesSubplot at 0x7f1b8aa335f8>"
      ]
     },
     "execution_count": 11,
     "metadata": {},
     "output_type": "execute_result"
    },
    {
     "data": {
      "image/png": "[encoded data removed]",
      "text/plain": [
       "<matplotlib.figure.Figure at 0x7f1b8a9f2470>"
      ]
     },
     "metadata": {
      "needs_background": "light"
     },
     "output_type": "display_data"
    }
   ],
   "source": [
    "# Density Plot and Histogram of Incongruent\n",
    "sns.distplot(stroop['Difference'], hist=True, kde=True, \n",
    "            bins=8, color = 'darkblue', \n",
    "             hist_kws={'edgecolor':'black'},\n",
    "             kde_kws={'linewidth': 4})"
   ]
  },
  {
   "cell_type": "markdown",
   "metadata": {},
   "source": [
    "**Our sample is 24 observations, so that the density plot and histogram of its distribution shows mild right skew in 'Congruent', 'Incongruent' and 'Difference'. I found some outliers in 'Incongruent' and 'Difference'.\n",
    "I found the values range of 'Congruent' between 9-22, and 16-35 in 'Incongruent' and I found all values in difference greater than zero (between 2-22) which means the time to read incongruent word is more than congruent word (Alternative Hypothesis).**"
   ]
  },
  {
   "cell_type": "markdown",
   "metadata": {},
   "source": [
    "***The density plot code from [here](https://towardsdatascience.com/histograms-and-density-plots-in-python-f6bda88f5ac0)***"
   ]
  },
  {
   "cell_type": "markdown",
   "metadata": {},
   "source": [
    "#### (5)  Now, perform the statistical test and report your results. What is your confidence level or Type I error associated with your test? What is your conclusion regarding the hypotheses you set up? Did the results match up with your expectations? **Hint:**  Think about what is being measured on each individual, and what statistic best captures how an individual reacts in each environment."
   ]
  },
  {
   "cell_type": "markdown",
   "metadata": {},
   "source": [
    "### The Statistical Tests: ###\n",
    "#### 1- Using T-Test: #### \n",
    "At a type I error rate of 1% ( $ \\alpha =.01 $ ) when confidence level 99%.\n",
    "The degrees of freedom = n-1 = 24 - 1 = 23"
   ]
  },
  {
   "cell_type": "code",
   "execution_count": 12,
   "metadata": {},
   "outputs": [
    {
     "data": {
      "text/plain": [
       "4.8648269103590556"
      ]
     },
     "execution_count": 12,
     "metadata": {},
     "output_type": "execute_result"
    }
   ],
   "source": [
    "# Finding 'Difference' standard deviation (std)\n",
    "std = stroop.Difference.std()\n",
    "std"
   ]
  },
  {
   "cell_type": "code",
   "execution_count": 13,
   "metadata": {},
   "outputs": [
    {
     "data": {
      "text/plain": [
       "0.99302863477834058"
      ]
     },
     "execution_count": 13,
     "metadata": {},
     "output_type": "execute_result"
    }
   ],
   "source": [
    "# Finding Standard Error [SE = Std / sqrt (n)]\n",
    "se = std / (24 ** (0.5))\n",
    "se"
   ]
  },
  {
   "cell_type": "code",
   "execution_count": 14,
   "metadata": {},
   "outputs": [
    {
     "data": {
      "text/plain": [
       "8.020706944109957"
      ]
     },
     "execution_count": 14,
     "metadata": {},
     "output_type": "execute_result"
    }
   ],
   "source": [
    "# Calculating the t-statistic, which is given by T = 'Difference' mean / SE\n",
    "# Under the null hypothesis, this statistic follows a t-distribution \n",
    "# with (n − 1) degrees of freedom (df = 24 - 1 = 23).\n",
    "\n",
    "t_test = stroop.Difference.mean() / se\n",
    "t_test"
   ]
  },
  {
   "cell_type": "markdown",
   "metadata": {},
   "source": [
    "**The P-Value is < 0.00001**\n",
    "\n",
    "**The result is significant at p < .01**"
   ]
  },
  {
   "cell_type": "markdown",
   "metadata": {},
   "source": [
    "*The P-value is calculated from [here](https://www.socscistatistics.com/pvalues/tdistribution.aspx)*"
   ]
  },
  {
   "cell_type": "markdown",
   "metadata": {},
   "source": [
    "#### The Conclusion: ####\n",
    "**The t-statistic (calculated T value) of degrees of freedom (23) is 8.021 which greater than the t-critical value (2.500)( in T table), hence it falls under the critical region (rejection) so that the null hypothesis is rejected because the results, that I received, are statistically significant at p < 0.01 level and accepted the alternative hypothesis. This means that there is a difference between the time taken to read Incongruent word for the time taken to read congruent word and the largest difference is 21.92 seconds.**"
   ]
  },
  {
   "cell_type": "markdown",
   "metadata": {},
   "source": [
    "#### $\\blacksquare$  **Confidence interval for the true difference mean** #### \n",
    "It would be useful to calculate a confidence interval for the mean of difference to tell us within what limits the true difference is likely to lie. \n",
    "\n",
    "A 99% confidence interval for the true difference mean is:\n",
    "\n",
    " $ \\bar{d}$ ± (t\u0003 × SE)\n",
    " \n",
    "where $ \\bar{d}$ is the mean of difference, t\u0003 is the .01% point of the t-distribution on n − 1 degrees of freedom.\n",
    "\n",
    "Using the Data:\n",
    "We have a difference mean of 7.96 second. The .01% point of the t-distribution with 23 degrees of freedom is 2.500 (T Table). The 99% confidence interval for the true mean difference is therefore:\n",
    "\n",
    "7.96 ± (2.500 × 0.993) = 7.96 ± 2.483 = (5.477, 10.443)\n",
    "\n",
    "This confirms that, although the difference in scores is statistically significant. We can be 99% sure that the true mean lies somewhere between 5.477 second and 10.443 second."
   ]
  },
  {
   "cell_type": "code",
   "execution_count": 15,
   "metadata": {},
   "outputs": [
    {
     "data": {
      "text/plain": [
       "(5.4774284130541488, 10.442571586945851)"
      ]
     },
     "execution_count": 15,
     "metadata": {},
     "output_type": "execute_result"
    }
   ],
   "source": [
    "# Calculating the confidence interval for the true difference mean (explained above)\n",
    "7.96 - (2.500 * se), 7.96 + (2.500 * se)"
   ]
  },
  {
   "cell_type": "markdown",
   "metadata": {},
   "source": [
    "#### 2- Using Bootstrapping Approach:"
   ]
  },
  {
   "cell_type": "code",
   "execution_count": 16,
   "metadata": {},
   "outputs": [
    {
     "data": {
      "text/plain": [
       "7.9647916666666658"
      ]
     },
     "execution_count": 16,
     "metadata": {},
     "output_type": "execute_result"
    }
   ],
   "source": [
    "# Observation dofference mean which I'll yesy it.\n",
    "obs_diffs_mean = stroop.Difference.mean()\n",
    "obs_diffs_mean"
   ]
  },
  {
   "cell_type": "code",
   "execution_count": 17,
   "metadata": {},
   "outputs": [],
   "source": [
    "# Bootstraping the sample data for 10,000 iterations,\n",
    "# calculatimg the mean for Congruent and Incongruent, and calculating \n",
    "# the difference in means for each sample.\n",
    "boot_diffs_means = []\n",
    "for _ in range (10000):\n",
    "    boot_sample_c = stroop['Congruent'].sample(24, replace=True)\n",
    "    boot_sample_i = stroop['Incongruent'].sample(24, replace=True)\n",
    "    boot_diffs_means.append(boot_sample_i.mean() - boot_sample_c.mean())"
   ]
  },
  {
   "cell_type": "code",
   "execution_count": 18,
   "metadata": {},
   "outputs": [
    {
     "data": {
      "text/plain": [
       "array([ 7.92741667,  9.28408333,  9.934875  , ...,  6.716375  ,\n",
       "        7.93720833,  8.433375  ])"
      ]
     },
     "execution_count": 18,
     "metadata": {},
     "output_type": "execute_result"
    }
   ],
   "source": [
    "# Converting the \"boot_diffs_means\" list to numpy array.\n",
    "boot_diffs_means = np.array(boot_diffs_means)\n",
    "boot_diffs_means"
   ]
  },
  {
   "cell_type": "code",
   "execution_count": 19,
   "metadata": {},
   "outputs": [
    {
     "data": {
      "text/plain": [
       "<matplotlib.lines.Line2D at 0x7f1b8a95be80>"
      ]
     },
     "execution_count": 19,
     "metadata": {},
     "output_type": "execute_result"
    },
    {
     "data": {
      "image/png": "[encoded data removed]",
      "text/plain": [
       "<matplotlib.figure.Figure at 0x7f1b8a95b390>"
      ]
     },
     "metadata": {
      "needs_background": "light"
     },
     "output_type": "display_data"
    }
   ],
   "source": [
    "# Plotting boot_diffs_means and the observed mean of the sample to see where it'll fall.'\n",
    "diffs_means_10000 = boot_diffs_means.mean()\n",
    "plt.hist(boot_diffs_means)\n",
    "plt.axvline(x=obs_diffs_mean, c = 'r')"
   ]
  },
  {
   "cell_type": "markdown",
   "metadata": {},
   "source": [
    "*I expected the sampling distribution to be normal by the Central Limit Theorem. The observed mean of the sample (red line) lies in the center of the sampling distribution.*"
   ]
  },
  {
   "cell_type": "code",
   "execution_count": 20,
   "metadata": {},
   "outputs": [],
   "source": [
    "# Here are 10000 draws from the sampling distribution \n",
    "# under the null (difference mean = 0)\n",
    "null_vals = np.random.normal(0, np.std(boot_diffs_means), 10000)"
   ]
  },
  {
   "cell_type": "code",
   "execution_count": 21,
   "metadata": {},
   "outputs": [
    {
     "data": {
      "text/plain": [
       "<matplotlib.lines.Line2D at 0x7f1b8a9241d0>"
      ]
     },
     "execution_count": 21,
     "metadata": {},
     "output_type": "execute_result"
    },
    {
     "data": {
      "image/png": "[encoded data removed]",
      "text/plain": [
       "<matplotlib.figure.Figure at 0x7f1b8a909f28>"
      ]
     },
     "metadata": {
      "needs_background": "light"
     },
     "output_type": "display_data"
    }
   ],
   "source": [
    "# Ploting the null vals and the observed mean of the sample to see where it'll fall.'\n",
    "plt.hist(null_vals)\n",
    "plt.axvline(x=obs_diffs_mean, c = 'r')"
   ]
  },
  {
   "cell_type": "markdown",
   "metadata": {},
   "source": [
    "*The observed mean of the sample (red line) lies out of the sampling distribution of the null values (difference mean = 0). It is graphical evidence to reject the null hypothesis and accept the alternative hypothesis.*"
   ]
  },
  {
   "cell_type": "code",
   "execution_count": 22,
   "metadata": {},
   "outputs": [
    {
     "data": {
      "text/plain": [
       "0.0"
      ]
     },
     "execution_count": 22,
     "metadata": {},
     "output_type": "execute_result"
    }
   ],
   "source": [
    "# Computing p-value\n",
    "(null_vals > obs_diffs_mean).mean()"
   ]
  },
  {
   "cell_type": "markdown",
   "metadata": {},
   "source": [
    "#### The P-Value conclusion: ####\n",
    "According to the p-value = 0 (0 < $ \\alpha$) and the previous graph before, I found statistical significance to reject the null hypothesis and accept the alternative hypothesis."
   ]
  },
  {
   "cell_type": "code",
   "execution_count": 23,
   "metadata": {
    "scrolled": true
   },
   "outputs": [
    {
     "data": {
      "text/plain": [
       "(-3.0678606832486683, 2.9128612114952164)"
      ]
     },
     "execution_count": 23,
     "metadata": {},
     "output_type": "execute_result"
    }
   ],
   "source": [
    "# Building a 99% confidence interval using sampling distribution\n",
    "np.percentile(null_vals, 0.5), np.percentile(null_vals, 99.5)"
   ]
  },
  {
   "cell_type": "code",
   "execution_count": 24,
   "metadata": {},
   "outputs": [
    {
     "data": {
      "text/plain": [
       "<matplotlib.lines.Line2D at 0x7f1b8a7d14e0>"
      ]
     },
     "execution_count": 24,
     "metadata": {},
     "output_type": "execute_result"
    },
    {
     "data": {
      "image/png": "[encoded data removed]",
      "text/plain": [
       "<matplotlib.figure.Figure at 0x7f1b8a9253c8>"
      ]
     },
     "metadata": {
      "needs_background": "light"
     },
     "output_type": "display_data"
    }
   ],
   "source": [
    "upper_bound = np.percentile(null_vals, 0.5)\n",
    "lower_bound = np.percentile(null_vals, 99.5)\n",
    "plt.hist(null_vals);\n",
    "plt.axvline(x=lower_bound, color = 'green'); # where our boot sample mean falls out null dist\n",
    "plt.axvline(x=upper_bound, color = 'green'); # where our boot sample mean falls out null dist\n",
    "plt.axvline(x=obs_diffs_mean, c = 'red')"
   ]
  },
  {
   "cell_type": "markdown",
   "metadata": {},
   "source": [
    "#### The Confidence Interval conclusion: ####\n",
    "*When I used the 99% confidence interval, I found that the average value of the 'Difference' (obs_diffs_mean = 7.96) falls outside these CI values (lower_bound , upper_bound) as shown above, so I decide that the null hypothesis is rejected and accept the alternative hypothesis.*"
   ]
  }
 ],
 "metadata": {
  "kernelspec": {
   "display_name": "Python 3",
   "language": "python",
   "name": "python3"
  },
  "language_info": {
   "codemirror_mode": {
    "name": "ipython",
    "version": 3
   },
   "file_extension": ".py",
   "mimetype": "text/x-python",
   "name": "python",
   "nbconvert_exporter": "python",
   "pygments_lexer": "ipython3",
   "version": "3.6.3"
  }
 },
 "nbformat": 4,
 "nbformat_minor": 2
}
